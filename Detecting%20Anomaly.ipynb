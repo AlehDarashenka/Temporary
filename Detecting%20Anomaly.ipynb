{
 "cells": [
  {
   "cell_type": "code",
   "execution_count": 1,
   "metadata": {
    "collapsed": false
   },
   "outputs": [
    {
     "data": {
      "text/plain": [
       "[(1, 4), (2, 5), (3, 6)]"
      ]
     },
     "execution_count": 1,
     "metadata": {},
     "output_type": "execute_result"
    }
   ],
   "source": [
    "zip([1,2,3],[4,5,6])"
   ]
  },
  {
   "cell_type": "code",
   "execution_count": 1,
   "metadata": {
    "collapsed": false
   },
   "outputs": [],
   "source": [
    "import pandas as pd\n",
    "data = pd.read_csv('Player.csv',',')"
   ]
  },
  {
   "cell_type": "code",
   "execution_count": 2,
   "metadata": {
    "collapsed": false
   },
   "outputs": [
    {
     "name": "stdout",
     "output_type": "stream",
     "text": [
      "<class 'pandas.core.frame.DataFrame'>\n",
      "RangeIndex: 11060 entries, 0 to 11059\n",
      "Data columns (total 7 columns):\n",
      "id                    11060 non-null int64\n",
      "player_api_id         11060 non-null int64\n",
      "player_name           11060 non-null object\n",
      "player_fifa_api_id    11060 non-null int64\n",
      "birthday              11060 non-null object\n",
      "height                11060 non-null float64\n",
      "weight                11060 non-null int64\n",
      "dtypes: float64(1), int64(4), object(2)\n",
      "memory usage: 604.9+ KB\n"
     ]
    }
   ],
   "source": [
    "data.info()"
   ]
  },
  {
   "cell_type": "code",
   "execution_count": 3,
   "metadata": {
    "collapsed": false
   },
   "outputs": [],
   "source": [
    "from sklearn import svm\n",
    "labels = []\n",
    "for i in range(10):\n",
    "    svm_ = svm.OneClassSVM(gamma=1./(i+1), nu=0.001) \n",
    "    svm_.fit(data[['height','weight']])\n",
    "    labels.append(svm_.predict(data[['height','weight']]))"
   ]
  },
  {
   "cell_type": "code",
   "execution_count": 4,
   "metadata": {
    "collapsed": false
   },
   "outputs": [
    {
     "name": "stdout",
     "output_type": "stream",
     "text": [
      "0.772332730561\n",
      "0.316184448463\n",
      "0.495569620253\n",
      "0.452169981917\n",
      "0.457866184448\n",
      "0.506419529837\n",
      "0.462296564195\n",
      "0.512296564195\n",
      "0.527215189873\n",
      "0.470524412297\n"
     ]
    }
   ],
   "source": [
    "for i in labels:\n",
    "    print (i==1).mean()"
   ]
  },
  {
   "cell_type": "code",
   "execution_count": 5,
   "metadata": {
    "collapsed": false
   },
   "outputs": [],
   "source": [
    "from matplotlib import pyplot as plt\n",
    "%matplotlib inline"
   ]
  },
  {
   "cell_type": "code",
   "execution_count": 6,
   "metadata": {
    "collapsed": false
   },
   "outputs": [
    {
     "data": {
      "text/plain": [
       "array([-1.])"
      ]
     },
     "execution_count": 6,
     "metadata": {},
     "output_type": "execute_result"
    }
   ],
   "source": [
    "svm_.predict([[250, 250]])"
   ]
  },
  {
   "cell_type": "code",
   "execution_count": 7,
   "metadata": {
    "collapsed": false
   },
   "outputs": [
    {
     "data": {
      "text/plain": [
       "array([[-0.11101799]])"
      ]
     },
     "execution_count": 7,
     "metadata": {},
     "output_type": "execute_result"
    }
   ],
   "source": [
    "svm_.decision_function([[250, 250]])"
   ]
  },
  {
   "cell_type": "code",
   "execution_count": 8,
   "metadata": {
    "collapsed": false
   },
   "outputs": [
    {
     "name": "stderr",
     "output_type": "stream",
     "text": [
      "C:\\Users\\Aleh_Darashenka\\AppData\\Local\\Continuum\\Anaconda2\\lib\\site-packages\\sklearn\\utils\\validation.py:395: DeprecationWarning: Passing 1d arrays as data is deprecated in 0.17 and will raise ValueError in 0.19. Reshape your data either using X.reshape(-1, 1) if your data has a single feature or X.reshape(1, -1) if it contains a single sample.\n",
      "  DeprecationWarning)\n"
     ]
    },
    {
     "data": {
      "text/plain": [
       "array([[-0.11101799]])"
      ]
     },
     "execution_count": 8,
     "metadata": {},
     "output_type": "execute_result"
    }
   ],
   "source": [
    "svm_.decision_function([10, 100])"
   ]
  },
  {
   "cell_type": "code",
   "execution_count": 9,
   "metadata": {
    "collapsed": false
   },
   "outputs": [
    {
     "ename": "SyntaxError",
     "evalue": "invalid syntax (<ipython-input-9-47fcea4704a3>, line 1)",
     "output_type": "error",
     "traceback": [
      "\u001b[0;36m  File \u001b[0;32m\"<ipython-input-9-47fcea4704a3>\"\u001b[0;36m, line \u001b[0;32m1\u001b[0m\n\u001b[0;31m    data['height_corr'] =\u001b[0m\n\u001b[0m                          ^\u001b[0m\n\u001b[0;31mSyntaxError\u001b[0m\u001b[0;31m:\u001b[0m invalid syntax\n"
     ]
    }
   ],
   "source": [
    "data['height_corr'] = "
   ]
  },
  {
   "cell_type": "code",
   "execution_count": 10,
   "metadata": {
    "collapsed": false
   },
   "outputs": [
    {
     "ename": "NameError",
     "evalue": "name 'np' is not defined",
     "output_type": "error",
     "traceback": [
      "\u001b[0;31m---------------------------------------------------------------------------\u001b[0m",
      "\u001b[0;31mNameError\u001b[0m                                 Traceback (most recent call last)",
      "\u001b[0;32m<ipython-input-10-9e40433675b7>\u001b[0m in \u001b[0;36m<module>\u001b[0;34m()\u001b[0m\n\u001b[0;32m----> 1\u001b[0;31m \u001b[0mnp\u001b[0m\u001b[1;33m.\u001b[0m\u001b[0mc_\u001b[0m\u001b[1;33m[\u001b[0m\u001b[0mxx1\u001b[0m\u001b[1;33m.\u001b[0m\u001b[0mravel\u001b[0m\u001b[1;33m(\u001b[0m\u001b[1;33m)\u001b[0m\u001b[1;33m,\u001b[0m \u001b[0myy1\u001b[0m\u001b[1;33m.\u001b[0m\u001b[0mravel\u001b[0m\u001b[1;33m(\u001b[0m\u001b[1;33m)\u001b[0m\u001b[1;33m]\u001b[0m\u001b[1;33m\u001b[0m\u001b[0m\n\u001b[0m",
      "\u001b[0;31mNameError\u001b[0m: name 'np' is not defined"
     ]
    }
   ],
   "source": [
    "np.c_[xx1.ravel(), yy1.ravel()]"
   ]
  },
  {
   "cell_type": "code",
   "execution_count": 15,
   "metadata": {
    "collapsed": false
   },
   "outputs": [
    {
     "data": {
      "text/plain": [
       "<matplotlib.contour.QuadContourSet at 0xda7d748>"
      ]
     },
     "execution_count": 15,
     "metadata": {},
     "output_type": "execute_result"
    },
    {
     "data": {
      "image/png": "[encoded data removed]",
      "text/plain": [
       "<matplotlib.figure.Figure at 0xda7dc88>"
      ]
     },
     "metadata": {},
     "output_type": "display_data"
    }
   ],
   "source": [
    "svm_ = svm.OneClassSVM(gamma=10, nu=0.001,kernel='rbf') \n",
    "svm_ = svm_.fit(data[['height','weight']])\n",
    "                                                                       \n",
    "       \n",
    "labels = svm_.predict(np.asarray(data[['height', 'weight']]))\n",
    "for label, color in zip((-1,1), ('red', 'blue')):\n",
    "    plt.scatter(np.asarray(data[['height','weight']].values[(labels==label),0]), np.asarray(data[['height','weight']].values[(labels==label),1]),c = color)\n",
    "xx1, yy1 = np.meshgrid(np.linspace(150, 250, 500), np.linspace(100, 260, 500))                                                                         \n",
    "plt.figure(1)\n",
    "Z1 = svm_.decision_function(np.c_[xx1.ravel(), yy1.ravel()])\n",
    "Z1 = Z1.reshape(xx1.shape)\n",
    "plt.contour( xx1, yy1, Z1, levels=[0], linewidths=2, colors='black')                        "
   ]
  },
  {
   "cell_type": "code",
   "execution_count": 33,
   "metadata": {
    "collapsed": false
   },
   "outputs": [
    {
     "data": {
      "text/html": [
       "<div>\n",
       "<table border=\"1\" class=\"dataframe\">\n",
       "  <thead>\n",
       "    <tr style=\"text-align: right;\">\n",
       "      <th></th>\n",
       "      <th>id</th>\n",
       "      <th>height</th>\n",
       "      <th>weight</th>\n",
       "      <th>overall_rating</th>\n",
       "    </tr>\n",
       "  </thead>\n",
       "  <tbody>\n",
       "    <tr>\n",
       "      <th>0</th>\n",
       "      <td>2625</td>\n",
       "      <td>175.26</td>\n",
       "      <td>154</td>\n",
       "      <td>60.142857</td>\n",
       "    </tr>\n",
       "    <tr>\n",
       "      <th>1</th>\n",
       "      <td>2752</td>\n",
       "      <td>187.96</td>\n",
       "      <td>174</td>\n",
       "      <td>69.380952</td>\n",
       "    </tr>\n",
       "    <tr>\n",
       "      <th>2</th>\n",
       "      <td>2768</td>\n",
       "      <td>180.34</td>\n",
       "      <td>154</td>\n",
       "      <td>69.285714</td>\n",
       "    </tr>\n",
       "    <tr>\n",
       "      <th>3</th>\n",
       "      <td>2770</td>\n",
       "      <td>180.34</td>\n",
       "      <td>161</td>\n",
       "      <td>71.133333</td>\n",
       "    </tr>\n",
       "    <tr>\n",
       "      <th>4</th>\n",
       "      <td>2790</td>\n",
       "      <td>175.26</td>\n",
       "      <td>163</td>\n",
       "      <td>70.200000</td>\n",
       "    </tr>\n",
       "  </tbody>\n",
       "</table>\n",
       "</div>"
      ],
      "text/plain": [
       "     id  height  weight  overall_rating\n",
       "0  2625  175.26     154       60.142857\n",
       "1  2752  187.96     174       69.380952\n",
       "2  2768  180.34     154       69.285714\n",
       "3  2770  180.34     161       71.133333\n",
       "4  2790  175.26     163       70.200000"
      ]
     },
     "execution_count": 33,
     "metadata": {},
     "output_type": "execute_result"
    }
   ],
   "source": [
    "player_rate = pd.read_csv('Player_Rate.csv', ',')\n",
    "\n",
    "player_rate.columns = ['id','height','weight', 'overall_rating']\n",
    "player_rate.head()"
   ]
  },
  {
   "cell_type": "code",
   "execution_count": 34,
   "metadata": {
    "collapsed": false
   },
   "outputs": [],
   "source": [
    "player_rate.dropna(inplace=True)"
   ]
  },
  {
   "cell_type": "code",
   "execution_count": 39,
   "metadata": {
    "collapsed": false
   },
   "outputs": [
    {
     "ename": "ImportError",
     "evalue": "No module named tabpy_client",
     "output_type": "error",
     "traceback": [
      "\u001b[0;31m---------------------------------------------------------------------------\u001b[0m",
      "\u001b[0;31mImportError\u001b[0m                               Traceback (most recent call last)",
      "\u001b[0;32m<ipython-input-39-677d6e1a739c>\u001b[0m in \u001b[0;36m<module>\u001b[0;34m()\u001b[0m\n\u001b[0;32m----> 1\u001b[0;31m \u001b[1;32mimport\u001b[0m \u001b[0mtabpy_client\u001b[0m\u001b[1;33m\u001b[0m\u001b[0m\n\u001b[0m\u001b[1;32m      2\u001b[0m \u001b[1;33m\u001b[0m\u001b[0m\n\u001b[1;32m      3\u001b[0m \u001b[0mclient\u001b[0m \u001b[1;33m=\u001b[0m \u001b[0mtabpy_client\u001b[0m\u001b[1;33m.\u001b[0m\u001b[0mClient\u001b[0m\u001b[1;33m(\u001b[0m\u001b[1;34m'http://localhost:9004/'\u001b[0m\u001b[1;33m)\u001b[0m\u001b[1;33m\u001b[0m\u001b[0m\n\u001b[1;32m      4\u001b[0m \u001b[1;33m\u001b[0m\u001b[0m\n\u001b[1;32m      5\u001b[0m \u001b[1;32mimport\u001b[0m \u001b[0mnumpy\u001b[0m \u001b[1;32mas\u001b[0m \u001b[0mnp\u001b[0m\u001b[1;33m\u001b[0m\u001b[0m\n",
      "\u001b[0;31mImportError\u001b[0m: No module named tabpy_client"
     ]
    }
   ],
   "source": [
    "import tabpy_client\n",
    "\n",
    "client = tabpy_client.Client('http://localhost:9004/')\n",
    "\n",
    "import numpy as np\n",
    "from sklearn.covariance import EllipticEnvelope\n",
    "model = EllipticEnvelope(contamination=0.001 )\n",
    "model.fit(player_rate[['height','overall_rating']])\n",
    "labels = model.predict(np.asarray(player_rate[['height', 'overall_rating']]))\n",
    "for label, color in zip((-1,1), ('red', 'blue')):\n",
    "    plt.scatter(player_rate[['height','overall_rating']].values[(labels==label),0], player_rate[['height','overall_rating']].values[(labels==label),1],c = color)\n",
    "\n",
    "def height_rank_anomalies(height, rank):\n",
    "    return model.predict((zip(height,rank)).tolist())\n",
    "\n",
    "client.deploy('height_rank_anomalies',\n",
    "              height_rank_anomalies,\n",
    "              'Returns labels either -1 if outlier or 1 if not')\n",
    "    \n",
    "    \n",
    "    \n",
    "xx1, yy1 = np.meshgrid(np.linspace(150, 220, 500), np.linspace(30, 100, 500))                                                                         \n",
    "plt.figure(1)\n",
    "Z1 = model.decision_function(np.c_[xx1.ravel(), yy1.ravel()])\n",
    "Z1 = Z1.reshape(xx1.shape)\n",
    "plt.contour( xx1, yy1, Z1, levels=[0], linewidths=2, colors='black')       "
   ]
  },
  {
   "cell_type": "code",
   "execution_count": 36,
   "metadata": {
    "collapsed": false
   },
   "outputs": [
    {
     "data": {
      "text/html": [
       "<div>\n",
       "<table border=\"1\" class=\"dataframe\">\n",
       "  <thead>\n",
       "    <tr style=\"text-align: right;\">\n",
       "      <th></th>\n",
       "      <th>id</th>\n",
       "      <th>height</th>\n",
       "      <th>weight</th>\n",
       "      <th>overall_rating</th>\n",
       "      <th>weight(kg)</th>\n",
       "    </tr>\n",
       "  </thead>\n",
       "  <tbody>\n",
       "    <tr>\n",
       "      <th>0</th>\n",
       "      <td>2625</td>\n",
       "      <td>175.26</td>\n",
       "      <td>154</td>\n",
       "      <td>60.142857</td>\n",
       "      <td>69.853168</td>\n",
       "    </tr>\n",
       "    <tr>\n",
       "      <th>1</th>\n",
       "      <td>2752</td>\n",
       "      <td>187.96</td>\n",
       "      <td>174</td>\n",
       "      <td>69.380952</td>\n",
       "      <td>78.925008</td>\n",
       "    </tr>\n",
       "    <tr>\n",
       "      <th>2</th>\n",
       "      <td>2768</td>\n",
       "      <td>180.34</td>\n",
       "      <td>154</td>\n",
       "      <td>69.285714</td>\n",
       "      <td>69.853168</td>\n",
       "    </tr>\n",
       "    <tr>\n",
       "      <th>3</th>\n",
       "      <td>2770</td>\n",
       "      <td>180.34</td>\n",
       "      <td>161</td>\n",
       "      <td>71.133333</td>\n",
       "      <td>73.028312</td>\n",
       "    </tr>\n",
       "    <tr>\n",
       "      <th>4</th>\n",
       "      <td>2790</td>\n",
       "      <td>175.26</td>\n",
       "      <td>163</td>\n",
       "      <td>70.200000</td>\n",
       "      <td>73.935496</td>\n",
       "    </tr>\n",
       "  </tbody>\n",
       "</table>\n",
       "</div>"
      ],
      "text/plain": [
       "     id  height  weight  overall_rating  weight(kg)\n",
       "0  2625  175.26     154       60.142857   69.853168\n",
       "1  2752  187.96     174       69.380952   78.925008\n",
       "2  2768  180.34     154       69.285714   69.853168\n",
       "3  2770  180.34     161       71.133333   73.028312\n",
       "4  2790  175.26     163       70.200000   73.935496"
      ]
     },
     "execution_count": 36,
     "metadata": {},
     "output_type": "execute_result"
    }
   ],
   "source": [
    "player_rate['weight(kg)'] = player_rate['weight']*0.453592\n",
    "player_rate.head()"
   ]
  },
  {
   "cell_type": "code",
   "execution_count": 38,
   "metadata": {
    "collapsed": false
   },
   "outputs": [
    {
     "data": {
      "text/plain": [
       "<matplotlib.contour.QuadContourSet at 0xc38f518>"
      ]
     },
     "execution_count": 38,
     "metadata": {},
     "output_type": "execute_result"
    },
    {
     "data": {
      "image/png": "[encoded data removed]",
      "text/plain": [
       "<matplotlib.figure.Figure at 0x1874a860>"
      ]
     },
     "metadata": {},
     "output_type": "display_data"
    }
   ],
   "source": [
    "import numpy as np\n",
    "from sklearn.covariance import EllipticEnvelope\n",
    "model = EllipticEnvelope(contamination=0.001 )\n",
    "model.fit(player_rate[['weight(kg)','overall_rating']])\n",
    "labels = model.predict(np.asarray(player_rate[['weight(kg)', 'overall_rating']]))\n",
    "for label, color in zip((-1,1), ('red', 'blue')):\n",
    "    plt.scatter(player_rate[['weight(kg)','overall_rating']].values[(labels==label),0], player_rate[['weight(kg)','overall_rating']].values[(labels==label),1],c = color)\n",
    "\n",
    "xx1, yy1 = np.meshgrid(np.linspace(50, 120, 500), np.linspace(30, 100, 500))                                                                         \n",
    "plt.figure(1)\n",
    "Z1 = model.decision_function(np.c_[xx1.ravel(), yy1.ravel()])\n",
    "Z1 = Z1.reshape(xx1.shape)\n",
    "plt.contour( xx1, yy1, Z1, levels=[0], linewidths=2, colors='black')    "
   ]
  },
  {
   "cell_type": "code",
   "execution_count": 14,
   "metadata": {
    "collapsed": false
   },
   "outputs": [
    {
     "data": {
      "text/plain": [
       "<matplotlib.contour.QuadContourSet at 0xd240390>"
      ]
     },
     "execution_count": 14,
     "metadata": {},
     "output_type": "execute_result"
    },
    {
     "data": {
      "image/png": "[encoded data removed]",
      "text/plain": [
       "<matplotlib.figure.Figure at 0xd240550>"
      ]
     },
     "metadata": {},
     "output_type": "display_data"
    }
   ],
   "source": [
    "import numpy as np\n",
    "from sklearn.covariance import EllipticEnvelope\n",
    "model = EllipticEnvelope(contamination=0.001 )\n",
    "model.fit(data[['height','weight']])\n",
    "labels = model.predict(np.asarray(data[['height', 'weight']]))\n",
    "for label, color in zip((-1,1), ('red', 'blue')):\n",
    "    plt.scatter(data[['height','weight']].values[(labels==label),0], data[['height','weight']].values[(labels==label),1],c = color)\n",
    "\n",
    "xx1, yy1 = np.meshgrid(np.linspace(150, 250, 500), np.linspace(100, 260, 500))                                                                         \n",
    "plt.figure(1)\n",
    "Z1 = model.decision_function(np.c_[xx1.ravel(), yy1.ravel()])\n",
    "Z1 = Z1.reshape(xx1.shape)\n",
    "plt.contour( xx1, yy1, Z1, levels=[0], linewidths=2, colors='black')            "
   ]
  },
  {
   "cell_type": "code",
   "execution_count": 141,
   "metadata": {
    "collapsed": false
   },
   "outputs": [
    {
     "data": {
      "text/plain": [
       "array([ 0.85381473])"
      ]
     },
     "execution_count": 141,
     "metadata": {},
     "output_type": "execute_result"
    }
   ],
   "source": [
    "model.decision_function([[170.18,163]])"
   ]
  },
  {
   "cell_type": "code",
   "execution_count": 143,
   "metadata": {
    "collapsed": false
   },
   "outputs": [
    {
     "data": {
      "text/plain": [
       "array([[ 182.88,  187.  ],\n",
       "       [ 170.18,  146.  ],\n",
       "       [ 170.18,  163.  ],\n",
       "       ..., \n",
       "       [ 180.34,  154.  ],\n",
       "       [ 185.42,  172.  ],\n",
       "       [ 180.34,  176.  ]])"
      ]
     },
     "execution_count": 143,
     "metadata": {},
     "output_type": "execute_result"
    }
   ],
   "source": [
    "np.asarray(data[['height', 'weight']])"
   ]
  },
  {
   "cell_type": "code",
   "execution_count": 139,
   "metadata": {
    "collapsed": false
   },
   "outputs": [],
   "source": [
    "data['predict'] = model.predict(data[['height', 'weight']])"
   ]
  },
  {
   "cell_type": "code",
   "execution_count": 64,
   "metadata": {
    "collapsed": false
   },
   "outputs": [
    {
     "ename": "ImportError",
     "evalue": "cannot import name IsolationForest",
     "output_type": "error",
     "traceback": [
      "\u001b[0;31m---------------------------------------------------------------------------\u001b[0m",
      "\u001b[0;31mImportError\u001b[0m                               Traceback (most recent call last)",
      "\u001b[0;32m<ipython-input-64-f90f460443ac>\u001b[0m in \u001b[0;36m<module>\u001b[0;34m()\u001b[0m\n\u001b[0;32m----> 1\u001b[0;31m \u001b[1;32mfrom\u001b[0m \u001b[0msklearn\u001b[0m\u001b[1;33m.\u001b[0m\u001b[0mensemble\u001b[0m \u001b[1;32mimport\u001b[0m \u001b[0mIsolationForest\u001b[0m\u001b[1;33m\u001b[0m\u001b[0m\n\u001b[0m\u001b[1;32m      2\u001b[0m model2 = IsolationForest(max_samples=11060,\n\u001b[1;32m      3\u001b[0m                                         \u001b[0mcontamination\u001b[0m\u001b[1;33m=\u001b[0m\u001b[1;36m0.1\u001b[0m\u001b[1;33m,\u001b[0m\u001b[1;33m\u001b[0m\u001b[0m\n\u001b[1;32m      4\u001b[0m                                         random_state=1)\n\u001b[1;32m      5\u001b[0m \u001b[0mmodel2\u001b[0m \u001b[1;33m=\u001b[0m \u001b[0mEllipticEnvelope\u001b[0m\u001b[1;33m(\u001b[0m\u001b[0mcontamination\u001b[0m\u001b[1;33m=\u001b[0m\u001b[1;36m0.25\u001b[0m\u001b[1;33m)\u001b[0m\u001b[1;33m\u001b[0m\u001b[0m\n",
      "\u001b[0;31mImportError\u001b[0m: cannot import name IsolationForest"
     ]
    }
   ],
   "source": [
    "from sklearn.ensemble import IsolationForest\n",
    "model2 = IsolationForest(max_samples=11060,\n",
    "                                        contamination=0.1,\n",
    "                                        random_state=1)\n",
    "model2 = EllipticEnvelope(contamination=0.25)\n",
    "model2.fit(data[['height','weight']])\n",
    "labels = model2.predict(data[['height','weight']])\n",
    "for label, color in zip((-1,1), ('red', 'blue')):\n",
    "    plt.scatter(data[['height','weight']].values[(labels==label),0], data[['height','weight']].values[(labels==label),1],\\\n",
    "                                                                         c = color)\n",
    "            "
   ]
  },
  {
   "cell_type": "code",
   "execution_count": 66,
   "metadata": {
    "collapsed": false
   },
   "outputs": [
    {
     "data": {
      "text/plain": [
       "0.00018083182640144665"
      ]
     },
     "execution_count": 66,
     "metadata": {},
     "output_type": "execute_result"
    }
   ],
   "source": [
    "(labels==1).mean()"
   ]
  },
  {
   "cell_type": "code",
   "execution_count": 77,
   "metadata": {
    "collapsed": false
   },
   "outputs": [
    {
     "data": {
      "text/plain": [
       "array([ 187.,  146.])"
      ]
     },
     "execution_count": 77,
     "metadata": {},
     "output_type": "execute_result"
    }
   ],
   "source": [
    "data[['height','weight']].values[(labels==1),1]"
   ]
  },
  {
   "cell_type": "code",
   "execution_count": null,
   "metadata": {
    "collapsed": true
   },
   "outputs": [],
   "source": []
  }
 ],
 "metadata": {
  "anaconda-cloud": {},
  "kernelspec": {
   "display_name": "Python [default]",
   "language": "python",
   "name": "python2"
  },
  "language_info": {
   "codemirror_mode": {
    "name": "ipython",
    "version": 2
   },
   "file_extension": ".py",
   "mimetype": "text/x-python",
   "name": "python",
   "nbconvert_exporter": "python",
   "pygments_lexer": "ipython2",
   "version": "2.7.12"
  }
 },
 "nbformat": 4,
 "nbformat_minor": 1
}
